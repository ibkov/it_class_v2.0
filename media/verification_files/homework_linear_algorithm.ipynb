{
 "cells": [
  {
   "cell_type": "code",
   "execution_count": 1,
   "metadata": {
    "colab": {},
    "colab_type": "code",
    "id": "5xiIq1VV5gSN"
   },
   "outputs": [],
   "source": [
    "import numpy as np\n",
    "import pandas as pd\n",
    "pd.set_option('display.max_rows', 100, 'display.max_columns', 200)\n",
    "#строчка нужна, чтобы датасеты с множеством колонок отображались полностью\n",
    "import seaborn as sns\n",
    "import matplotlib.pyplot as plt\n",
    "%matplotlib inline"
   ]
  },
  {
   "cell_type": "markdown",
   "metadata": {
    "colab_type": "text",
    "id": "vZ80AeTn5gSe"
   },
   "source": [
    "# Линейная регрессия: эксперимент на искусственных данных (4 балла)"
   ]
  },
  {
   "cell_type": "markdown",
   "metadata": {
    "colab_type": "text",
    "id": "sPhhSKJc5gSg"
   },
   "source": [
    "Сгенерируем искусственные данные. Каждый объект имеет один признак, который записан в переменную $X$. Целевая переменная $y$ зависит от $X$ по закону $y = 7X - 10$. Поскольку восстанавливать в точности линейную зависимость не интересно, к целевой переменной добавлен шум, имеющий нормальное распределение. Ниже визуализировано распределение шума."
   ]
  },
  {
   "cell_type": "code",
   "execution_count": 2,
   "metadata": {
    "colab": {},
    "colab_type": "code",
    "id": "8Q9Lw4uN5gSj"
   },
   "outputs": [
    {
     "data": {
      "text/plain": [
       "(array([1., 1., 1., 4., 2., 4., 0., 3., 2., 2.]),\n",
       " array([-16.8528637 , -13.26798706,  -9.68311042,  -6.09823378,\n",
       "         -2.51335715,   1.07151949,   4.65639613,   8.24127277,\n",
       "         11.82614941,  15.41102605,  18.99590269]),\n",
       " <a list of 10 Patch objects>)"
      ]
     },
     "execution_count": 2,
     "metadata": {},
     "output_type": "execute_result"
    },
    {
     "data": {
      "image/png": "[encoded data removed]",
      "text/plain": [
       "<Figure size 432x288 with 1 Axes>"
      ]
     },
     "metadata": {
      "needs_background": "light"
     },
     "output_type": "display_data"
    }
   ],
   "source": [
    "noise = np.random.randn(20) * 10\n",
    "plt.hist(noise)"
   ]
  },
  {
   "cell_type": "code",
   "execution_count": 8,
   "metadata": {
    "colab": {},
    "colab_type": "code",
    "id": "0Vt1Q-OX5gSv"
   },
   "outputs": [
    {
     "data": {
      "text/plain": [
       "(20, 1)"
      ]
     },
     "execution_count": 8,
     "metadata": {},
     "output_type": "execute_result"
    }
   ],
   "source": [
    "X = np.linspace(-5, 5, 20)\n",
    "y = 10 * X - 7 + noise\n",
    "\n",
    "X = X.reshape(-1,1) \n",
    "X\n",
    "# Изменение формы необходимо, поскольку на вход линейной регрессии \n",
    "# должна подаваться двумерная матрица, а не вектор\n",
    "X.shape"
   ]
  },
  {
   "cell_type": "markdown",
   "metadata": {
    "colab_type": "text",
    "id": "0dICCNcY5gS7"
   },
   "source": [
    "### Задание 1 (0 баллов)\n",
    "Разбейте данные на train и test в соотношении 1:1. Используйте функцию ``sklearn.model_selection.train_test_split``."
   ]
  },
  {
   "cell_type": "code",
   "execution_count": 5,
   "metadata": {
    "colab": {},
    "colab_type": "code",
    "id": "Bb-ije5J5gS8"
   },
   "outputs": [],
   "source": [
    "from sklearn.model_selection import train_test_split"
   ]
  },
  {
   "cell_type": "code",
   "execution_count": 6,
   "metadata": {
    "colab": {},
    "colab_type": "code",
    "id": "RkeF8c6X5gTD"
   },
   "outputs": [],
   "source": [
    "X_train, X_test, y_train, y_test = train_test_split(X, y)"
   ]
  },
  {
   "cell_type": "markdown",
   "metadata": {
    "colab_type": "text",
    "id": "aFSfwJQI5gTH"
   },
   "source": [
    "Визуализируем данные, используя библиотеку matplotlib."
   ]
  },
  {
   "cell_type": "code",
   "execution_count": 7,
   "metadata": {
    "colab": {},
    "colab_type": "code",
    "id": "PVc98eLD5gTI"
   },
   "outputs": [
    {
     "data": {
      "image/png": "[encoded data removed]",
      "text/plain": [
       "<Figure size 720x360 with 1 Axes>"
      ]
     },
     "metadata": {
      "needs_background": "light"
     },
     "output_type": "display_data"
    }
   ],
   "source": [
    "plt.figure(figsize=(10, 5))\n",
    "plt.plot(X, 10 * X - 7, label='real')\n",
    "plt.scatter(X_train, y_train, label='train')\n",
    "plt.scatter(X_test, y_test, label='test')\n",
    "plt.legend()\n",
    "plt.show()"
   ]
  },
  {
   "cell_type": "markdown",
   "metadata": {
    "colab_type": "text",
    "id": "EuI7uwbl5gTM"
   },
   "source": [
    "### Задание 2 (2 балла)\n",
    "Обучите модель линейной регрессии на тренировочной выборке и предскажите значения на тестовой.\n",
    "Предсказанные ответы сохраните в переменную ``predictions``, а веса модели (угол наклона прямой и свободный член) --- в переменные ``w``, ``b``. О том, где внутри модели сохраняются веса, можно прочесть в <a href=https://scikit-learn.org/stable/modules/generated/sklearn.linear_model.LinearRegression.html>документации</a>."
   ]
  },
  {
   "cell_type": "code",
   "execution_count": 0,
   "metadata": {
    "colab": {},
    "colab_type": "code",
    "id": "wC4X1pyF5gTM"
   },
   "outputs": [],
   "source": [
    "from sklearn.linear_model import LinearRegression"
   ]
  },
  {
   "cell_type": "code",
   "execution_count": 0,
   "metadata": {
    "colab": {},
    "colab_type": "code",
    "id": "qeVejFO-5gTQ"
   },
   "outputs": [],
   "source": [
    "model = LinearRegression()\n",
    "model.fit(<YOUR CODE>)\n",
    "\n",
    "predictions = <YOUR CODE>\n",
    "\n",
    "w = <YOUR CODE>\n",
    "b = <YOUR CODE>"
   ]
  },
  {
   "cell_type": "code",
   "execution_count": 0,
   "metadata": {
    "colab": {},
    "colab_type": "code",
    "id": "VG6XLyqO5gTT"
   },
   "outputs": [],
   "source": [
    "w, b"
   ]
  },
  {
   "cell_type": "markdown",
   "metadata": {
    "colab_type": "text",
    "id": "7q24mp5P5gTX"
   },
   "source": [
    "Визуализируем предсказания."
   ]
  },
  {
   "cell_type": "code",
   "execution_count": 0,
   "metadata": {
    "colab": {},
    "colab_type": "code",
    "id": "NW7dZE-_5gTY"
   },
   "outputs": [],
   "source": [
    "plt.figure(figsize=(10, 5))\n",
    "plt.plot(X, 10 * X - 7, label='real')\n",
    "plt.scatter(X_train, y_train, label='train')\n",
    "plt.scatter(X_test, y_test, label='test')\n",
    "plt.plot(X, X * w + b, label='predicted')\n",
    "plt.legend()\n",
    "plt.show()"
   ]
  },
  {
   "cell_type": "markdown",
   "metadata": {
    "colab_type": "text",
    "id": "UwoqvBHn5gTb"
   },
   "source": [
    "### Задание 3 (1 балл)\n",
    "Вычислите среднеквадратичную и среднюю абсолютную ошибку на обучающем и тестовом множествах."
   ]
  },
  {
   "cell_type": "code",
   "execution_count": 0,
   "metadata": {
    "colab": {},
    "colab_type": "code",
    "id": "VUOAm2ua5gTb",
    "scrolled": true
   },
   "outputs": [],
   "source": [
    "from sklearn.metrics import mean_squared_error, mean_absolute_error\n",
    "\n",
    "y_train_predicted = <YOUR CODE>\n",
    "y_test_predicted = <YOUR CODE>\n",
    "\n",
    "print('Train MSE: ', <YOUR CODE>)\n",
    "print('Test MSE: ', <YOUR CODE>)"
   ]
  },
  {
   "cell_type": "code",
   "execution_count": 0,
   "metadata": {
    "colab": {},
    "colab_type": "code",
    "id": "cFwqLTzX5gTe"
   },
   "outputs": [],
   "source": [
    "print('Train MAE: ', <YOUR CODE>)\n",
    "print('Test MAE: ', <YOUR CODE>)"
   ]
  },
  {
   "cell_type": "markdown",
   "metadata": {
    "colab_type": "text",
    "id": "v6MqbKcz5gTg"
   },
   "source": [
    "### Задание 4 (1 балл)\n",
    "Сделайте выводы. Верно ли, что ошибка на train меньше, чем на test? В связи с чем это происходит?"
   ]
  },
  {
   "cell_type": "markdown",
   "metadata": {
    "colab_type": "text",
    "id": "0WNMVvkI5gTh"
   },
   "source": []
  },
  {
   "cell_type": "markdown",
   "metadata": {
    "colab_type": "text",
    "id": "HddGa5Ir5gTh"
   },
   "source": [
    "# Предсказание отклика на маркетинговую кампанию банка с помощью логистической регрессии (6 баллов)\n",
    "\n",
    "В этом разделе вы решите задачу предсказания отклика на маркетинговую кампанию с помощью логистической регрессии. "
   ]
  },
  {
   "cell_type": "markdown",
   "metadata": {
    "colab_type": "text",
    "id": "hS0wnF1_5gTi"
   },
   "source": [
    "## Постановка задачи\n",
    "Для нового продукта банка необходимо определить круг клиентов, которым будет совершён телефонный звонок с предложением продукта. Известно, что один звонок независимо от результата стоит 10 рублей, а каждый успешный звонок приносит банку 100 рублей. Цель -- максимизировать прибыль банка. \n",
    "\n",
    "Мы имеем задачу классификации клиентов на два класса. Для каждого клиента будем предсказывать вероятность отклика на кампанию, а затем выберем пороговую вероятность обзвона. Предсказывать вероятность предлагается с помощью логистической регрессии.\n",
    "\n",
    "## Сбор данных\n",
    "В вашем распоряжении есть выборка из предыдущих звонков, для каждого из которых имеется вектор признаков (характеристики клиента и продукта), а также результат звонка. Загрузим данные с помощью библиотеки Pandas. Создадим объект ``data`` класса ``pandas.DataFrame``.\n",
    "\n",
    "Описание данных: http://archive.ics.uci.edu/ml/datasets/Bank+Marketing"
   ]
  },
  {
   "cell_type": "code",
   "execution_count": 0,
   "metadata": {
    "colab": {},
    "colab_type": "code",
    "id": "Ce5v7kPw5gTi"
   },
   "outputs": [],
   "source": [
    "data = pd.read_csv('bank-additional-full.csv', sep=';')\n",
    "# Если строчка не выполняется, ноутбук нужно сохранить на \n",
    "# компьютере и данные положить в ту же папку"
   ]
  },
  {
   "cell_type": "markdown",
   "metadata": {
    "colab_type": "text",
    "id": "In2ugNmh5gTl"
   },
   "source": [
    "Взглянем на выборку, соберём предварительную информацию о ней, изучим признаки с помощью функций ``head``, ``info``, ``describe`` библиотеки Pandas."
   ]
  },
  {
   "cell_type": "code",
   "execution_count": 0,
   "metadata": {
    "colab": {},
    "colab_type": "code",
    "id": "I-SGODD05gTm"
   },
   "outputs": [],
   "source": [
    "data.head()"
   ]
  },
  {
   "cell_type": "code",
   "execution_count": 0,
   "metadata": {
    "colab": {},
    "colab_type": "code",
    "id": "wT8-EPcL5gTp"
   },
   "outputs": [],
   "source": [
    "data.info()"
   ]
  },
  {
   "cell_type": "code",
   "execution_count": 0,
   "metadata": {
    "colab": {},
    "colab_type": "code",
    "id": "Zae36kXr5gTr"
   },
   "outputs": [],
   "source": [
    "data.describe()"
   ]
  },
  {
   "cell_type": "markdown",
   "metadata": {
    "colab_type": "text",
    "id": "XRdztjhk5gTv"
   },
   "source": [
    "### Задание 5 (1 балл)\n",
    "Сейчас целевая переменная записана в ``data['y']`` и имеет текстовый вид (\"yes\" или \"no\"). Переведите её в числовой вид. Вам поможет класс ``LabelBinarizer`` модуля ``sklearn.preproccesing``. Модуль содержит классы для предобработки признаков.\n",
    "\n",
    "Выделите целевое значение в переменную ``y``."
   ]
  },
  {
   "cell_type": "code",
   "execution_count": 0,
   "metadata": {
    "colab": {},
    "colab_type": "code",
    "id": "leb1hW_75gTv"
   },
   "outputs": [],
   "source": [
    "from sklearn.preprocessing import LabelBinarizer\n",
    "binarizer = LabelBinarizer()\n",
    "\n",
    "y = <YOUR CODE>\n",
    "\n",
    "data['y'] = y\n",
    "\n",
    "data.describe()"
   ]
  },
  {
   "cell_type": "code",
   "execution_count": 0,
   "metadata": {
    "colab": {},
    "colab_type": "code",
    "id": "yWPWTB205gTy"
   },
   "outputs": [],
   "source": [
    "data['y'].value_counts()"
   ]
  },
  {
   "cell_type": "markdown",
   "metadata": {
    "colab_type": "text",
    "id": "rWFLm-FI5gT0"
   },
   "source": [
    "Видим, что классы очень несбалансированы. "
   ]
  },
  {
   "cell_type": "markdown",
   "metadata": {
    "colab_type": "text",
    "id": "cOtbXjSS5gT1"
   },
   "source": [
    "## Предварительный анализ признаков\n",
    "В датасете есть признак ``duration``, обозначающий длительность совершённого звонка. Это значение неизвестно до совершения звонка, поэтому не может быть использовано для предсказания. Удалим эту переменную из рассмотрения. Сделаем это с помощью метода ``drop`` класса ``pandas.DataFrame``."
   ]
  },
  {
   "cell_type": "code",
   "execution_count": 0,
   "metadata": {
    "colab": {},
    "colab_type": "code",
    "id": "_zqKBBiD5gT1"
   },
   "outputs": [],
   "source": [
    "data = data.drop(columns=['duration'])"
   ]
  },
  {
   "cell_type": "markdown",
   "metadata": {
    "colab_type": "text",
    "id": "aNCng2F75gT5"
   },
   "source": [
    "В датасете многие признаки являются категориальными. Мы ограничимся их one-hot кодированием. \n",
    "\n",
    "## One-hot кодирование\n",
    "One-hot кодирование категориального признака ``feature``, принимающего $k$ значений ``1``, ``2``, ``3``, $\\ldots$, ``t``, заключается в создании $t$ новых бинарных признаков ``\"feature == 1\"``, ``\"feature == 2\"``, $\\ldots$, ``\"feature == t\"``, определяющихся по формуле\n",
    "\n",
    "$$\\text{\"feature == i\"} = \n",
    "\\begin{cases}\n",
    "1,& feature = i\\\\\n",
    "0,& feature \\neq i\n",
    "\\end{cases}.$$\n",
    "\n",
    "\n",
    "### Задание 6 (1 балл)\n",
    "Закодируйте категориальные признаки. One-hot encoding с помощью Pandas можно выполнить с помощью функции ``get_dummies``. \n"
   ]
  },
  {
   "cell_type": "code",
   "execution_count": 0,
   "metadata": {
    "colab": {},
    "colab_type": "code",
    "id": "U24uvkav5gT5"
   },
   "outputs": [],
   "source": [
    "# Разделим признаки на числовые и категориальные с помощью функции ``select_dtypes``\n",
    "\n",
    "data_categorical = data.select_dtypes(include=['object'])\n",
    "data_numeric = data.select_dtypes(exclude=['object'])\n",
    "\n",
    "data_one_hot = <YOUR CODE>"
   ]
  },
  {
   "cell_type": "markdown",
   "metadata": {
    "colab_type": "text",
    "id": "D8fAIEPb5gT8"
   },
   "source": [
    "### Визуализация данных\n",
    "Визуализация данных полезна для предварительного анализа. Подробно о визуализации мы поговорим на следующих занятиях, а сейчас ограничимся построением матрицы корреляций по числовым признакам. Нам пригодится функция ``heatmap`` библиотеки Seaborn, а также функция ``corr`` класса ``pandas.DataFrame``."
   ]
  },
  {
   "cell_type": "code",
   "execution_count": 0,
   "metadata": {
    "colab": {},
    "colab_type": "code",
    "id": "2OQ2tD0C5gT8"
   },
   "outputs": [],
   "source": [
    "plt.figure(figsize=(12,10))\n",
    "sns.heatmap(data_numeric.corr())"
   ]
  },
  {
   "cell_type": "markdown",
   "metadata": {
    "colab_type": "text",
    "id": "cM4w9NUq5gT-"
   },
   "source": [
    "## Составление плана обучения и тестирования, train и test\n",
    "\n",
    "Прежде чем производить обработку признаков, необходимо составить план обучения и тестирования. Чтобы смоделировать \"реальную\" производственную ситуацию и избежать переобучения, необходимо разделить данные на train и test. Выборка test **будет недоступна** на стадии обработки признаков и обучения. Строго говоря, выделение категориальных признаков также необхоимо было проводить после разбиения, но для простоты мы опустим этот момент. Также не забудем выбросить целевую переменную из ``data_numeric``.\n",
    "\n",
    "Разобьём данные на train и test в соотношении 70:30 с помощью функции ``train_test_split`` модуля ``sklearn.model_selection``."
   ]
  },
  {
   "cell_type": "code",
   "execution_count": 0,
   "metadata": {
    "colab": {},
    "colab_type": "code",
    "id": "ciJk9zho5gT_"
   },
   "outputs": [],
   "source": [
    "data_numeric = data_numeric.drop(columns=['y'])\n",
    "\n",
    "from sklearn.model_selection import train_test_split\n",
    "\n",
    "data_train, data_test, data_categorical_train, data_categorical_test,\\\n",
    "data_one_hot_train, data_one_hot_test,\\\n",
    "data_numeric_train, data_numeric_test, y_train, y_test\\\n",
    "= train_test_split(data, data_categorical, data_one_hot, data_numeric, y)"
   ]
  },
  {
   "cell_type": "markdown",
   "metadata": {
    "colab_type": "text",
    "id": "3FXRmuMu5gUA"
   },
   "source": [
    "### Обработка числовых признаков, нормировка\n",
    "Есть множество методов обработки, генерации новых признаков, отбора признаков и т.д. Многие из них реализованы в модулях ``sklearn.preprocessing`` и ``sklearn.feature_selection``. Сейчас мы ограничимся нормировкой признаков. \n",
    "\n",
    "Нормировка признаков производится по формуле \n",
    "$$x \\rightarrow \\frac{x - a}{\\sigma},$$\n",
    "где $a$ -- среднее значение признака, а $\\sigma$ -- среднее квадратическое отклонение признака, вычисляемое по формуле $$\\sigma = \\sqrt{\\frac{(x_1 - a)^2 + \\ldots + (x_n - a)^2}{n}}.$$\n",
    "\n",
    "\n",
    "\n",
    "### Задание 7 (1 балл)\n",
    "Произведите нормировку обучающих данных. Вам поможет класс ``StandartScaler`` модуля ``sklearn.preprocessing``. Нужно быть осторожным: StandartScaler выводит нас за рамки pandas. Результат применения -- ``numpy.ndarray``.\n",
    "\n",
    "Необходимо нормировать только числовые данные: data_numeric_train."
   ]
  },
  {
   "cell_type": "code",
   "execution_count": 0,
   "metadata": {
    "colab": {},
    "colab_type": "code",
    "id": "ANvv2YQo5gUB"
   },
   "outputs": [],
   "source": [
    "from sklearn.preprocessing import StandardScaler\n",
    "\n",
    "scaler = StandardScaler()\n",
    "\n",
    "data_normalized_train = <YOUR CODE>"
   ]
  },
  {
   "cell_type": "markdown",
   "metadata": {
    "colab_type": "text",
    "id": "jzPhzfz45gUD"
   },
   "source": [
    "## Формирование матрицы объекты-признаки\n",
    "После выполнения всех предыдущих действий мы наконец готовы сформировать матрицу объекты-признаки из всех данных, которые нам доступны. Сольём категориальные и числовые признаки, сформировав тренировочную матрицу объекты-признаки."
   ]
  },
  {
   "cell_type": "code",
   "execution_count": 0,
   "metadata": {
    "colab": {},
    "colab_type": "code",
    "id": "6k6VTldP5gUD"
   },
   "outputs": [],
   "source": [
    "X_train = np.concatenate([data_normalized_train, data_one_hot_train], axis=1)"
   ]
  },
  {
   "cell_type": "code",
   "execution_count": 0,
   "metadata": {
    "colab": {},
    "colab_type": "code",
    "id": "uqo327p25gUF"
   },
   "outputs": [],
   "source": [
    "X_train.shape"
   ]
  },
  {
   "cell_type": "markdown",
   "metadata": {
    "colab_type": "text",
    "id": "1p0ebBfX5gUH"
   },
   "source": [
    "## Обучение алгоритма\n",
    "\n",
    "### Задание 8 (1 балл)\n",
    "Создайте и обучите логистическую регрессию. Нужный вам класс ``LogisticRegression`` находится в модуле ``sklearn.linear_model``.\n",
    "Предскажите вероятности принадлежности объектов обучающей выборки к классу 1. Используйте метод модели ``predict_proba``."
   ]
  },
  {
   "cell_type": "code",
   "execution_count": 0,
   "metadata": {
    "colab": {},
    "colab_type": "code",
    "id": "6Ce6X6l05gUI"
   },
   "outputs": [],
   "source": [
    "from sklearn.linear_model import LogisticRegression\n",
    "model = LogisticRegression(max_iter=1000)"
   ]
  },
  {
   "cell_type": "code",
   "execution_count": 0,
   "metadata": {
    "colab": {},
    "colab_type": "code",
    "id": "a41c1pRt5gUK"
   },
   "outputs": [],
   "source": [
    "<YOUR CODE>\n",
    "\n",
    "y_train_predicted_probs = <YOUR CODE>"
   ]
  },
  {
   "cell_type": "markdown",
   "metadata": {
    "colab_type": "text",
    "id": "DFhQa5Aj5gUM"
   },
   "source": [
    "## Тестирование модели\n",
    "\n",
    "После обучения модели необходимо протестировать её и посчитать необходимые метрики. Для этого вспомним про тестовую выборку. \n",
    "### Задание 9 (1 балл)\n",
    "Примените к тестовой выборке те же преобразования, что и к обучающей. В нашем случае это нормировка, конкатенация и предсказание вероятностей. Обратите внимание, что параметры нормировки сохранены в объекте ``scaler``."
   ]
  },
  {
   "cell_type": "code",
   "execution_count": 0,
   "metadata": {
    "colab": {},
    "colab_type": "code",
    "id": "AQDwHzgE5gUM"
   },
   "outputs": [],
   "source": [
    "data_normalized_test = <YOUR CODE>\n",
    "X_test = <YOUR CODE>\n",
    "\n",
    "y_test_predicted_probs = <YOUR CODE>"
   ]
  },
  {
   "cell_type": "markdown",
   "metadata": {
    "colab_type": "text",
    "id": "aZmHrrUs5gUQ"
   },
   "source": [
    "Теперь, когда мы нашли вероятности отклика, можем выбрать порог вероятности обзвона (скажем, 0.5). Построим для обучающей и тестовой выборок ROC-кривые и посчитаем значения метрик. Нам поможет модуль ``sklearn.metrics`` и его функции ``accuracy_score``, ``precision_score``, ``recall_score``, ``roc_auc_score``, ``roc_curve``. \n",
    "Напишем функцию для вычисления метрик и построения графиков."
   ]
  },
  {
   "cell_type": "code",
   "execution_count": 0,
   "metadata": {
    "colab": {},
    "colab_type": "code",
    "id": "xUVV_2zg5gUQ"
   },
   "outputs": [],
   "source": [
    "from sklearn.metrics import accuracy_score, precision_score, recall_score, roc_auc_score, roc_curve\n",
    "\n",
    "def print_metrics(y_true, y_predicted_probs, threshold_probability = 0.5, names = ['train', 'test']):\n",
    "    plt.figure(figsize=(10,6))\n",
    "    for y_true_, y_predicted_probs_, name in zip(y_true, y_predicted_probs, names):\n",
    "        plt.plot(*(roc_curve(y_true_, y_predicted_probs_)[0:2]), label=name + ' ROC-curve')\n",
    "        print(name + ' accuracy: ', accuracy_score(y_true_, y_predicted_probs_ > threshold_probability))\n",
    "        print(name + ' precision: ', precision_score(y_true_, y_predicted_probs_ > threshold_probability))\n",
    "        print(name + ' recall: ', recall_score(y_true_, y_predicted_probs_ > threshold_probability))\n",
    "        print(name + ' ROC-AUC: ', roc_auc_score(y_true_, y_predicted_probs_))\n",
    "    plt.plot([0, 1], [0, 1], '--', color='black',)\n",
    "    plt.grid(True)\n",
    "    plt.legend()\n",
    "    plt.show()"
   ]
  },
  {
   "cell_type": "code",
   "execution_count": 0,
   "metadata": {
    "colab": {},
    "colab_type": "code",
    "id": "AJYu8UQX5gUT"
   },
   "outputs": [],
   "source": [
    "print_metrics([y_train, y_test], [y_train_predicted_probs, y_test_predicted_probs],\n",
    "              0.5, names = ['train', 'test'])"
   ]
  },
  {
   "cell_type": "markdown",
   "metadata": {
    "colab_type": "text",
    "id": "RxEf9g-O5gUW"
   },
   "source": [
    "## Бонусное задание: интерпретация результатов (1 балл)\n",
    "Интерпретируйте полученные результаты. Найдите оптимальный порог вероятности обзвона для максимизации прибыли, если каждый звонок стоит 10 рублей, а каждый успешный звонок приносит 100 рублей. Вам понадобится функция ``numpy.argmax`` и уже известная функция ``roc_curve``. Определите удельную прибыль на человека на тестовом множестве. Пожалуйста, оформите результат в легко читаемом виде и сделайте вывод.\n",
    "\n",
    "Информацию про ROC-кривую вы можете найти на <a href=https://ru.wikipedia.org/wiki/ROC-%D0%BA%D1%80%D0%B8%D0%B2%D0%B0%D1%8F> странице в википедии</a>. Пример работы с sklearn.metrics.roc_curve можно найти в <a href=https://scikit-learn.org/stable/modules/generated/sklearn.metrics.roc_curve.html>документации к методу</a>."
   ]
  },
  {
   "cell_type": "code",
   "execution_count": 0,
   "metadata": {
    "colab": {},
    "colab_type": "code",
    "id": "WxYiiL7y5gUW"
   },
   "outputs": [],
   "source": [
    "<YOUR CODE>"
   ]
  },
  {
   "cell_type": "markdown",
   "metadata": {
    "colab_type": "text",
    "id": "qw8yQG985gUY"
   },
   "source": [
    "Ваши выводы"
   ]
  }
 ],
 "metadata": {
  "colab": {
   "name": "homework_linear_algorithm.ipynb",
   "provenance": []
  },
  "kernelspec": {
   "display_name": "Python 3",
   "language": "python",
   "name": "python3"
  },
  "language_info": {
   "codemirror_mode": {
    "name": "ipython",
    "version": 3
   },
   "file_extension": ".py",
   "mimetype": "text/x-python",
   "name": "python",
   "nbconvert_exporter": "python",
   "pygments_lexer": "ipython3",
   "version": "3.7.4"
  }
 },
 "nbformat": 4,
 "nbformat_minor": 1
}
